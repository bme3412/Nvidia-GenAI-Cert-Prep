{
 "cells": [
  {
   "cell_type": "markdown",
   "id": "91fe5f2a-fa3f-4fbb-9f5a-0fc26be2a36b",
   "metadata": {},
   "source": [
    "### Neural Network Architecture Basics"
   ]
  },
  {
   "cell_type": "markdown",
   "id": "971a33ed-49e8-4dc9-b452-e0f954d1951b",
   "metadata": {},
   "source": [
    "#### 30,000 Foot View:\n",
    "+ Neural network architecture refers to the structured arrangement of interconnected nodes (neurons) and layers that define how artificial neural networks (ANNs) process and learn from data. This architecture is crucial for determining how effectively a network can model complex relationships and perform specific tasks."
   ]
  },
  {
   "cell_type": "markdown",
   "id": "7b2afc95-9a44-4688-a3a7-f8fa8eedc0fa",
   "metadata": {},
   "source": [
    "-----"
   ]
  },
  {
   "cell_type": "markdown",
   "id": "84b6f0d5-b9ff-4672-989f-8be4eb9b0f7c",
   "metadata": {},
   "source": [
    "#### Key Components of Neural Network Architecture\n",
    "##### Layers: \n",
    "+ 1. `Input Layer`: receives the initial data for processing\n",
    "  2. `Hidden Layers`: perform computations and transformations on the input data, through weighted connections and activation functions\n",
    "  3. `Output Layer`: produces the final predictions or classifications based on the processed data\n",
    "     \n",
    "##### Nodes:\n",
    "+ Also known as neurons; nodes are the basic computational units that take inputs, apply weights, add biases, and pass the result throughan activation function\n",
    "  \n",
    "##### Weights and Biases:\n",
    "+ `weights`: determine the strength of connections between nodes\n",
    "+ `biases`: allows neurons to make predicitons, even when all nodes/neurons are 0\n",
    "  \n",
    "##### Activation Functions:\n",
    "+ These are nonlinear functions that introduce non-linearity into the network, enabling it to learn complex patterns\n",
    "+ includes: `ReLu`, `Sigmoid`, and `Tanh`\n",
    "  \n",
    "##### Loss Functions\n",
    "+ Measures the distance between predicted outputs and target values"
   ]
  },
  {
   "cell_type": "markdown",
   "id": "f802e781-69d5-44d6-a0e5-d3109840b092",
   "metadata": {},
   "source": [
    "-----"
   ]
  },
  {
   "cell_type": "markdown",
   "id": "8d030dd7-e71a-4bfb-820a-c357c7a20f74",
   "metadata": {},
   "source": [
    "#### Types of NN Architectures"
   ]
  },
  {
   "cell_type": "markdown",
   "id": "32d81168-3381-410a-93ac-1f507608be05",
   "metadata": {},
   "source": [
    "##### FNN - Feedback Neural Networks\n",
    "+ Information moves in 1 direction - from input to output - without cycles\n",
    "\n",
    "##### CNN - Convolutional Neural Networks \n",
    "+ specialzied for processing grid-like data such as images; they use convolutional layers to detect patterns like edges and textures\n",
    "\n",
    "##### RNN - Recurrent Neural Networks\n",
    "+ Designed for sequential data, RNNs maintain a memory of prior inputs to make future predictions\n",
    "\n",
    "##### GAN - Generative Adversarial Networks\n",
    "+ comprise 2 networks (generator and discriminator) that compete against eachother to produce realistic synthetic data\n"
   ]
  },
  {
   "cell_type": "markdown",
   "id": "4536141c-5cf6-42f3-8e76-932b64840d9a",
   "metadata": {},
   "source": [
    "-----------"
   ]
  },
  {
   "cell_type": "markdown",
   "id": "0eac3ada-3c85-4056-a5c1-562805e2d681",
   "metadata": {},
   "source": [
    "#### Importance of Architecture\n",
    "+ The architecture of a neural network significantly impacts its capacity to learn and generalize from data"
   ]
  },
  {
   "cell_type": "markdown",
   "id": "7f36cb52-e29e-435e-82c1-aa1a8d14d740",
   "metadata": {},
   "source": [
    "#### Model Capacity:\n",
    "+ a deeper network with more layers can capture more complex relationships, but it does face challenges like over-fitting or vanishing gradients if not formatted properly\n",
    "  \n",
    "#### Efficiency\n",
    "+ Different architectures have varying compute costs; as an example, CNN are more efficent for image processing as compared to other connections\n",
    "  \n",
    "#### Task-Specific Design\n",
    "+ the choice of architecture should align with the problem trying to be solved, whether its image recognition, natural language processing, or time series analysis"
   ]
  },
  {
   "cell_type": "code",
   "execution_count": null,
   "id": "046cb979-864f-4057-bb47-7192d6603d7a",
   "metadata": {},
   "outputs": [],
   "source": []
  }
 ],
 "metadata": {
  "kernelspec": {
   "display_name": "Python 3.12 (PyTorch)",
   "language": "python",
   "name": "torch-ml-312"
  },
  "language_info": {
   "codemirror_mode": {
    "name": "ipython",
    "version": 3
   },
   "file_extension": ".py",
   "mimetype": "text/x-python",
   "name": "python",
   "nbconvert_exporter": "python",
   "pygments_lexer": "ipython3",
   "version": "3.12.7"
  }
 },
 "nbformat": 4,
 "nbformat_minor": 5
}
