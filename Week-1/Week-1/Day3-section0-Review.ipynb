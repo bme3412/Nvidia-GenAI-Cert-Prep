{
 "cells": [
  {
   "cell_type": "markdown",
   "id": "a6466c80-d7fc-416f-8bee-e75ffaf8c08d",
   "metadata": {},
   "source": [
    "#### Review of prior day [day 2]"
   ]
  },
  {
   "cell_type": "markdown",
   "id": "13bd85bd-760a-4518-b2e9-3a74883b8236",
   "metadata": {},
   "source": [
    "+ started with **`transfer learning`**: start with access to a pre-trained model, then fine-tune some of the layers by incorporating data from a specific use case or domain-specific data and incorporate into the existing model"
   ]
  },
  {
   "cell_type": "markdown",
   "id": "ed3dea87-cbf7-4d78-a17b-ef2246807164",
   "metadata": {},
   "source": [
    "+ then on to differences in `model architectures`, where encountered **Recurrent Neural Networks (RNN)** and **Convolutional Neural Networks (CNN)**\n",
    "    + CNNs are best for analysis of **grid-like data such as images/photos**; RNNs are best for handling **sequential data where memory from prior inputs** can be used as a parameter\n",
    "    + CNNs have a convolutional layer, a pooling layer, an activation layer and a fully connected layer; the convolutional layer applies filters to the data and detects features; the pooling layer reduces spatial dimensions while preserving important data relationships; the activation layer introduces non-linearity; and the fully connected layer flattens dimensions and performs classification\n",
    "    + RNNs, in contrast, have sequential data processing and a memory mechanism that allows to capture information from prior inputs"
   ]
  },
  {
   "cell_type": "markdown",
   "id": "2860b6b9-1032-423b-8f14-c6a68ac83f68",
   "metadata": {},
   "source": [
    "+ Next to `feature engineering`, which **transforms raw data and extracts features** which are then more efficiently processed into the neural net\n",
    "    + Includes numerical, categorical, time-based, and text-based data transformations and features engineering"
   ]
  },
  {
   "cell_type": "markdown",
   "id": "b7ec9cb2-5dd2-4039-8b1b-c8cea439b3f5",
   "metadata": {},
   "source": [
    "+ Finally, to `cross-validation`\n",
    "    + Users want to know how the model will perform in the real world, not just on existing data. Cross-validation is the primary tool for getting this insight before deploying to production\n",
    "    + 1. Model Performance Estimation: Provides a realistic assessment of **how well the model will perform** on unseen data\n",
    "      2. Model Selection & Comparison: Allows **fair comparison** between different types of models\n",
    "      3. Model Stability Assessment: Shows how **sensitive the model is** to different subsets of data"
   ]
  },
  {
   "cell_type": "code",
   "execution_count": null,
   "id": "36dbf7de-6abf-4e7c-ae2c-4f98b7b00727",
   "metadata": {},
   "outputs": [],
   "source": []
  }
 ],
 "metadata": {
  "kernelspec": {
   "display_name": "Python 3.12 (PyTorch)",
   "language": "python",
   "name": "torch-ml-312"
  },
  "language_info": {
   "codemirror_mode": {
    "name": "ipython",
    "version": 3
   },
   "file_extension": ".py",
   "mimetype": "text/x-python",
   "name": "python",
   "nbconvert_exporter": "python",
   "pygments_lexer": "ipython3",
   "version": "3.12.7"
  }
 },
 "nbformat": 4,
 "nbformat_minor": 5
}
