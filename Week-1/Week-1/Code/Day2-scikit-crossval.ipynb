{
 "cells": [
  {
   "cell_type": "markdown",
   "id": "a417ad64-50b5-4678-816f-c9fb3e453bcc",
   "metadata": {},
   "source": [
    "# Cross-Validation with Scikit-learn: Analyzing Earnings Transcripts\n",
    "\n",
    "This notebook demonstrates various cross-validation techniques using scikit-learn, specifically applied to analyzing company earnings transcripts.\n",
    "\n",
    "## Setup and Imports"
   ]
  },
  {
   "cell_type": "code",
   "execution_count": 34,
   "id": "e43cfe74-1a17-4e58-ade8-7c3db0a4b729",
   "metadata": {},
   "outputs": [],
   "source": [
    "import numpy as np\n",
    "import pandas as pd\n",
    "from sklearn.model_selection import train_test_split, KFold, cross_val_score\n",
    "from sklearn.feature_extraction.text import TfidfVectorizer\n",
    "from sklearn.linear_model import LogisticRegression\n",
    "from sklearn.metrics import accuracy_score, classification_report\n",
    "import matplotlib.pyplot as plt\n",
    "import seaborn as sns\n",
    "\n",
    "# Set random seed for reproducibility\n",
    "#np.random.seed(42)\n"
   ]
  },
  {
   "cell_type": "markdown",
   "id": "2e650491-1c63-4a22-ac45-bdba858051ef",
   "metadata": {},
   "source": [
    "## 1. Data Preparation\n",
    "\n",
    "First, let's create a sample dataset of earnings transcripts with sentiment labels. In a real-world scenario, you would load your own dataset here."
   ]
  },
  {
   "cell_type": "code",
   "execution_count": 35,
   "id": "8b0fa95e-e55c-4629-935d-aee313ffe87e",
   "metadata": {},
   "outputs": [
    {
     "name": "stdout",
     "output_type": "stream",
     "text": [
      "Dataset size: 8 samples\n",
      "Class distribution:\n",
      "1    4\n",
      "0    4\n",
      "Name: count, dtype: int64\n"
     ]
    }
   ],
   "source": [
    "# Create sample dataset\n",
    "transcripts = [\n",
    "    \"Strong revenue growth and expanding margins this quarter\",\n",
    "    \"Missed expectations due to supply chain challenges\",\n",
    "    \"Record profits and expanding market share\",\n",
    "    \"Restructuring costs impacted bottom line\",\n",
    "    \"New product launch exceeded expectations\",\n",
    "    \"Declining market share and increased competition\",\n",
    "    \"Robust growth across all business segments\",\n",
    "    \"Write-downs and impairment charges affected profitability\"\n",
    "]\n",
    "\n",
    "# 1 for positive sentiment, 0 for negative\n",
    "labels = np.array([1, 0, 1, 0, 1, 0, 1, 0])\n",
    "\n",
    "print(f\"Dataset size: {len(transcripts)} samples\")\n",
    "print(f\"Class distribution:\\n{pd.Series(labels).value_counts()}\")"
   ]
  },
  {
   "cell_type": "markdown",
   "id": "8c0e3cfd-3a6c-4182-a4a5-bb82fcea174d",
   "metadata": {},
   "source": [
    "-----------"
   ]
  },
  {
   "cell_type": "markdown",
   "id": "b2762e04-1428-446f-a779-625ebd6ebd86",
   "metadata": {},
   "source": [
    "## 2. Text Vectorization\n",
    "\n",
    "Convert our text data into numerical features using TF-IDF vectorization."
   ]
  },
  {
   "cell_type": "code",
   "execution_count": 36,
   "id": "a19e42e7-c414-488d-8d5f-532bdf42a414",
   "metadata": {},
   "outputs": [
    {
     "name": "stdout",
     "output_type": "stream",
     "text": [
      "Feature matrix shape: (8, 35)\n",
      "\n",
      "Sample feature names:\n",
      "['strong', 'revenue', 'growth', 'expanding', 'margins']\n"
     ]
    }
   ],
   "source": [
    "# Initialize and fit the vectorizer\n",
    "vectorizer = TfidfVectorizer(max_features=1000, stop_words='english')\n",
    "X = vectorizer.fit_transform(transcripts)\n",
    "\n",
    "print(f\"Feature matrix shape: {X.shape}\")\n",
    "print(\"\\nSample feature names:\")\n",
    "print(list(vectorizer.vocabulary_.keys())[:5])"
   ]
  },
  {
   "cell_type": "markdown",
   "id": "4448fa41-7555-4bb6-adc7-3870593a8d80",
   "metadata": {},
   "source": [
    "--------"
   ]
  },
  {
   "cell_type": "markdown",
   "id": "b307d688-5d83-4b8e-b475-85cf5e8b40ce",
   "metadata": {},
   "source": [
    "## 3. Basic Train-Test Split\n",
    "\n",
    "Before diving into cross-validation, let's see how a basic train-test split works."
   ]
  },
  {
   "cell_type": "code",
   "execution_count": 37,
   "id": "392b3682-1df0-4db9-b7de-28f98d046c94",
   "metadata": {},
   "outputs": [
    {
     "name": "stdout",
     "output_type": "stream",
     "text": [
      "Classification Report:\n",
      "              precision    recall  f1-score   support\n",
      "\n",
      "           0       0.00      0.00      0.00       2.0\n",
      "           1       0.00      0.00      0.00       0.0\n",
      "\n",
      "    accuracy                           0.00       2.0\n",
      "   macro avg       0.00      0.00      0.00       2.0\n",
      "weighted avg       0.00      0.00      0.00       2.0\n",
      "\n"
     ]
    },
    {
     "name": "stderr",
     "output_type": "stream",
     "text": [
      "/Users/brendan/Desktop - Brendan’s MacBook Air/nvda-certification/torch-ml-312/lib/python3.12/site-packages/sklearn/metrics/_classification.py:1565: UndefinedMetricWarning: Precision is ill-defined and being set to 0.0 in labels with no predicted samples. Use `zero_division` parameter to control this behavior.\n",
      "  _warn_prf(average, modifier, f\"{metric.capitalize()} is\", len(result))\n",
      "/Users/brendan/Desktop - Brendan’s MacBook Air/nvda-certification/torch-ml-312/lib/python3.12/site-packages/sklearn/metrics/_classification.py:1565: UndefinedMetricWarning: Recall is ill-defined and being set to 0.0 in labels with no true samples. Use `zero_division` parameter to control this behavior.\n",
      "  _warn_prf(average, modifier, f\"{metric.capitalize()} is\", len(result))\n",
      "/Users/brendan/Desktop - Brendan’s MacBook Air/nvda-certification/torch-ml-312/lib/python3.12/site-packages/sklearn/metrics/_classification.py:1565: UndefinedMetricWarning: Precision is ill-defined and being set to 0.0 in labels with no predicted samples. Use `zero_division` parameter to control this behavior.\n",
      "  _warn_prf(average, modifier, f\"{metric.capitalize()} is\", len(result))\n",
      "/Users/brendan/Desktop - Brendan’s MacBook Air/nvda-certification/torch-ml-312/lib/python3.12/site-packages/sklearn/metrics/_classification.py:1565: UndefinedMetricWarning: Recall is ill-defined and being set to 0.0 in labels with no true samples. Use `zero_division` parameter to control this behavior.\n",
      "  _warn_prf(average, modifier, f\"{metric.capitalize()} is\", len(result))\n",
      "/Users/brendan/Desktop - Brendan’s MacBook Air/nvda-certification/torch-ml-312/lib/python3.12/site-packages/sklearn/metrics/_classification.py:1565: UndefinedMetricWarning: Precision is ill-defined and being set to 0.0 in labels with no predicted samples. Use `zero_division` parameter to control this behavior.\n",
      "  _warn_prf(average, modifier, f\"{metric.capitalize()} is\", len(result))\n",
      "/Users/brendan/Desktop - Brendan’s MacBook Air/nvda-certification/torch-ml-312/lib/python3.12/site-packages/sklearn/metrics/_classification.py:1565: UndefinedMetricWarning: Recall is ill-defined and being set to 0.0 in labels with no true samples. Use `zero_division` parameter to control this behavior.\n",
      "  _warn_prf(average, modifier, f\"{metric.capitalize()} is\", len(result))\n"
     ]
    }
   ],
   "source": [
    "# Perform train-test split\n",
    "X_train, X_test, y_train, y_test = train_test_split(\n",
    "    X, labels, test_size=0.25, random_state=42\n",
    ")\n",
    "\n",
    "# Initialize and train the model\n",
    "model = LogisticRegression(random_state=42)\n",
    "model.fit(X_train, y_train)\n",
    "\n",
    "# Make predictions and evaluate\n",
    "y_pred = model.predict(X_test)\n",
    "print(\"Classification Report:\")\n",
    "print(classification_report(y_test, y_pred))"
   ]
  },
  {
   "cell_type": "markdown",
   "id": "c97416a6-c09f-441e-a858-eee278c230d7",
   "metadata": {},
   "source": [
    "-----------"
   ]
  },
  {
   "cell_type": "markdown",
   "id": "6f8796d5-a588-4e62-92fc-2c7467a8645f",
   "metadata": {},
   "source": [
    "## 4. K-Fold Cross-Validation\n",
    "\n",
    "Now let's implement k-fold cross-validation to get a more robust estimate of model performance."
   ]
  },
  {
   "cell_type": "code",
   "execution_count": 38,
   "id": "b97760aa-df50-4e11-a89c-d0321c778890",
   "metadata": {},
   "outputs": [
    {
     "name": "stdout",
     "output_type": "stream",
     "text": [
      "Cross-validation scores: [0. 1. 0. 0. 0.]\n",
      "Mean CV score: 0.20 (+/- 0.80)\n"
     ]
    }
   ],
   "source": [
    "# Initialize K-Fold cross-validator\n",
    "kf = KFold(n_splits=5, shuffle=True, random_state=42)\n",
    "\n",
    "# Perform cross-validation\n",
    "scores = cross_val_score(model, X, labels, cv=kf)\n",
    "\n",
    "print(f\"Cross-validation scores: {scores}\")\n",
    "print(f\"Mean CV score: {scores.mean():.2f} (+/- {scores.std() * 2:.2f})\")"
   ]
  },
  {
   "cell_type": "markdown",
   "id": "fe6544f0-6762-49b7-9883-c39aff281c21",
   "metadata": {},
   "source": [
    "### Visualize Cross-Validation Results"
   ]
  },
  {
   "cell_type": "code",
   "execution_count": 39,
   "id": "65265f79-16a9-4c87-90a7-d5615387998b",
   "metadata": {},
   "outputs": [
    {
     "data": {
      "image/png": "[encoded data removed]",
      "text/plain": [
       "<Figure size 1000x600 with 1 Axes>"
      ]
     },
     "metadata": {},
     "output_type": "display_data"
    }
   ],
   "source": [
    "plt.figure(figsize=(10, 6))\n",
    "plt.plot(range(1, len(scores) + 1), scores, 'o-')\n",
    "plt.axhline(y=scores.mean(), color='r', linestyle='--', label='Mean CV score')\n",
    "plt.fill_between(range(1, len(scores) + 1), \n",
    "                 scores.mean() - scores.std(),\n",
    "                 scores.mean() + scores.std(), \n",
    "                 alpha=0.2)\n",
    "plt.title('K-Fold Cross-Validation Scores')\n",
    "plt.xlabel('Fold')\n",
    "plt.ylabel('Accuracy Score')\n",
    "plt.grid(True)\n",
    "plt.legend()\n",
    "plt.show()"
   ]
  },
  {
   "cell_type": "markdown",
   "id": "d9fa0e61-19c8-42f8-8e99-f50cd27ffa84",
   "metadata": {},
   "source": [
    "## 5. Practical Application: Predicting New Transcripts\n",
    "\n",
    "Let's create a function to predict the sentiment of new earnings transcripts."
   ]
  },
  {
   "cell_type": "code",
   "execution_count": 40,
   "id": "b98264a3-35b1-43dc-81e5-aec5c10f40c4",
   "metadata": {},
   "outputs": [
    {
     "name": "stdout",
     "output_type": "stream",
     "text": [
      "Transcript: Negative performance across all segments with decreased guidance\n",
      "Predicted Sentiment: Positive\n",
      "Confidence: 0.70\n"
     ]
    }
   ],
   "source": [
    "def predict_sentiment(transcript):\n",
    "    # Vectorize new transcript\n",
    "    X_new = vectorizer.transform([transcript])\n",
    "    \n",
    "    # Predict\n",
    "    prediction = model.predict(X_new)\n",
    "    probability = model.predict_proba(X_new)\n",
    "    \n",
    "    sentiment = \"Positive\" if prediction[0] == 1 else \"Negative\"\n",
    "    confidence = max(probability[0])\n",
    "    \n",
    "    return sentiment, confidence\n",
    "\n",
    "# Test the function\n",
    "new_transcript = \"Negative performance across all segments with decreased guidance\"\n",
    "sentiment, confidence = predict_sentiment(new_transcript)\n",
    "\n",
    "print(f\"Transcript: {new_transcript}\")\n",
    "print(f\"Predicted Sentiment: {sentiment}\")\n",
    "print(f\"Confidence: {confidence:.2f}\")"
   ]
  },
  {
   "cell_type": "markdown",
   "id": "6f97f1bc-5800-40e8-8372-769b11af2a3c",
   "metadata": {},
   "source": [
    "## Best Practices and Tips\n",
    "\n",
    "1. **Feature Engineering**:\n",
    "   - Add domain-specific features (e.g., financial metrics)\n",
    "   - Consider n-grams for better context capture\n",
    "   - Normalize or standardize numerical features\n",
    "\n",
    "2. **Cross-Validation Strategies**:\n",
    "   - Use StratifiedKFold for imbalanced datasets\n",
    "   - Consider TimeSeriesSplit for temporal data\n",
    "   - Adjust number of folds based on dataset size\n",
    "\n",
    "3. **Model Selection**:\n",
    "   - Try different algorithms (SVM, Random Forest, etc.)\n",
    "   - Use GridSearchCV for hyperparameter tuning\n",
    "   - Consider ensemble methods\n",
    "\n",
    "4. **Evaluation**:\n",
    "   - Look beyond accuracy (precision, recall, F1)\n",
    "   - Analyze confusion matrix\n",
    "   - Consider business impact of different error types"
   ]
  },
  {
   "cell_type": "code",
   "execution_count": null,
   "id": "f1fd88f7-3b75-4026-b349-340368a8dd5f",
   "metadata": {},
   "outputs": [],
   "source": []
  }
 ],
 "metadata": {
  "kernelspec": {
   "display_name": "Python 3.12 (PyTorch)",
   "language": "python",
   "name": "torch-ml-312"
  },
  "language_info": {
   "codemirror_mode": {
    "name": "ipython",
    "version": 3
   },
   "file_extension": ".py",
   "mimetype": "text/x-python",
   "name": "python",
   "nbconvert_exporter": "python",
   "pygments_lexer": "ipython3",
   "version": "3.12.7"
  }
 },
 "nbformat": 4,
 "nbformat_minor": 5
}
