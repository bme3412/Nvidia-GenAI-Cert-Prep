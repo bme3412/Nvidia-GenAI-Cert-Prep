{
 "cells": [
  {
   "cell_type": "markdown",
   "id": "7fa30819-8b68-4695-b6c0-ee5221fdc39f",
   "metadata": {},
   "source": [
    "### Image Classification with the MNIST Dataset"
   ]
  },
  {
   "cell_type": "markdown",
   "id": "41909bec-04c7-460e-b64e-67f84495e548",
   "metadata": {},
   "source": [
    "#### The MNIST Dataset."
   ]
  },
  {
   "cell_type": "markdown",
   "id": "4900f8b8-72dd-4248-859a-f00a485e3078",
   "metadata": {},
   "source": [
    "+ The MNIST dataset consists of 70,000 grayscale images of handwritten digits (0-9), split into 60,000 training images, and 10,000 test images. Each image is 28x28 pixels (784 pixels total) with a digit from 0 to 9\n",
    "+ Common uses: training and testing ML models; benchmarking new algorithms; computer vision"
   ]
  },
  {
   "cell_type": "code",
   "execution_count": 19,
   "id": "00c6aca8-f1a5-479c-a148-2e7c19c2d80d",
   "metadata": {},
   "outputs": [
    {
     "name": "stdout",
     "output_type": "stream",
     "text": [
      "\u001b[2mUsing Python 3.12.7 environment at: /Users/brendan/Desktop - Brendan’s MacBook Air/nvda-certification/torch-ml-312\u001b[0m\n",
      "\u001b[2mAudited \u001b[1m1 package\u001b[0m \u001b[2min 4ms\u001b[0m\u001b[0m\n"
     ]
    }
   ],
   "source": [
    "import os\n",
    "if not os.path.exists('./data'):\n",
    "    os.makedirs('./data')\n",
    "import torch\n",
    "from torchvision import datasets, transforms\n",
    "!uv pip install matplotlib\n",
    "\n",
    "# define transformations\n",
    "## creates a pipeline of transformations that will be applied to each image\n",
    "    ## converts images to PyTorch tensors\n",
    "    ## standardizes the data using MNIST's mean (0.1307) and standard deviation (0.3081)\n",
    "transform = transforms.Compose([\n",
    "    transforms.ToTensor(),\n",
    "    transforms.Normalize((0.1307,), (0.3081,))\n",
    "])\n",
    "\n",
    "# Load MNIST dataset\n",
    "train_dataset = datasets.MNIST(\n",
    "    root='./data',\n",
    "    train=True,\n",
    "    download=True,\n",
    "    transform=transform\n",
    ")\n",
    "test_dataset = datasets.MNIST('./data', train=False, transform=transform)\n",
    "\n",
    "# Create data loaders\n",
    "train_loader = torch.utils.data.DataLoader(train_dataset, batch_size=64, shuffle=True)\n",
    "test_loader = torch.utils.data.DataLoader(test_dataset, batch_size=1000, shuffle=False)"
   ]
  },
  {
   "cell_type": "markdown",
   "id": "e0b3ec02-ba07-4696-81aa-fccc998b8fd2",
   "metadata": {},
   "source": [
    "### Create a simple Neural Network"
   ]
  },
  {
   "cell_type": "code",
   "execution_count": 20,
   "id": "7f0fa0ea-d2d4-442b-b52e-406841b386e5",
   "metadata": {},
   "outputs": [],
   "source": [
    "import torch.nn as nn\n",
    "import torch.nn.functional as F\n",
    "\n",
    "class SimpleNet(nn.Module):\n",
    "    def __init__(self):\n",
    "        super(SimpleNet, self).__init__()\n",
    "        # Input images are 28x28 pixels = 784 input features\n",
    "        self.fc1 = nn.Linear(784, 128)  # First layer: 784 -> 128\n",
    "        self.fc2 = nn.Linear(128, 10)   # Output layer: 128 -> 10 (digits 0-9)\n",
    "    \n",
    "    def forward(self, x):\n",
    "        x = x.view(-1, 784)  # Flatten the image\n",
    "        x = F.relu(self.fc1(x))  # Apply first layer and ReLU activation\n",
    "        x = self.fc2(x)  # Apply final layer\n",
    "        return F.log_softmax(x, dim=1)\n",
    "\n",
    "# Create the model\n",
    "model = SimpleNet()"
   ]
  },
  {
   "cell_type": "markdown",
   "id": "9d019be7-4d56-4e56-b176-9e503221572e",
   "metadata": {},
   "source": [
    "#### Then an Optimizer and loss function"
   ]
  },
  {
   "cell_type": "code",
   "execution_count": 21,
   "id": "1f0d8771-0302-46a8-bf36-ab32fec51481",
   "metadata": {},
   "outputs": [],
   "source": [
    "import torch.optim as optim\n",
    "\n",
    "optimizer = optim.SGD(model.parameters(), lr=0.01)  # Simple gradient descent\n",
    "criterion = nn.CrossEntropyLoss()  # Standard loss for classification"
   ]
  },
  {
   "cell_type": "markdown",
   "id": "bc4282b9-4cae-4a77-b978-852e5be4ec28",
   "metadata": {},
   "source": [
    "#### Simple Training Loop"
   ]
  },
  {
   "cell_type": "code",
   "execution_count": 22,
   "id": "ad2710bc-14a8-418c-b599-75a25df541f4",
   "metadata": {},
   "outputs": [
    {
     "name": "stdout",
     "output_type": "stream",
     "text": [
      "Epoch 1/2\n",
      "Training: Batch 0/938 Loss: 2.2735\n",
      "Training: Batch 50/938 Loss: 1.5817\n",
      "Training: Batch 100/938 Loss: 0.9992\n",
      "Training: Batch 150/938 Loss: 0.7056\n",
      "Training: Batch 200/938 Loss: 0.6283\n",
      "Training: Batch 250/938 Loss: 0.4541\n",
      "Training: Batch 300/938 Loss: 0.4949\n",
      "Training: Batch 350/938 Loss: 0.5259\n",
      "Training: Batch 400/938 Loss: 0.5456\n",
      "Training: Batch 450/938 Loss: 0.5614\n",
      "Training: Batch 500/938 Loss: 0.3118\n",
      "Training: Batch 550/938 Loss: 0.5109\n",
      "Training: Batch 600/938 Loss: 0.5193\n",
      "Training: Batch 650/938 Loss: 0.4075\n",
      "Training: Batch 700/938 Loss: 0.2762\n",
      "Training: Batch 750/938 Loss: 0.1576\n",
      "Training: Batch 800/938 Loss: 0.3511\n",
      "Training: Batch 850/938 Loss: 0.2069\n",
      "Training: Batch 900/938 Loss: 0.4180\n",
      "-------------------\n",
      "Epoch 2/2\n",
      "Training: Batch 0/938 Loss: 0.2968\n",
      "Training: Batch 50/938 Loss: 0.2617\n",
      "Training: Batch 100/938 Loss: 0.3633\n",
      "Training: Batch 150/938 Loss: 0.4551\n",
      "Training: Batch 200/938 Loss: 0.4526\n",
      "Training: Batch 250/938 Loss: 0.4451\n",
      "Training: Batch 300/938 Loss: 0.1470\n",
      "Training: Batch 350/938 Loss: 0.4000\n",
      "Training: Batch 400/938 Loss: 0.4866\n",
      "Training: Batch 450/938 Loss: 0.2032\n",
      "Training: Batch 500/938 Loss: 0.2096\n",
      "Training: Batch 550/938 Loss: 0.2426\n",
      "Training: Batch 600/938 Loss: 0.3566\n",
      "Training: Batch 650/938 Loss: 0.2280\n",
      "Training: Batch 700/938 Loss: 0.4104\n",
      "Training: Batch 750/938 Loss: 0.4213\n",
      "Training: Batch 800/938 Loss: 0.2458\n",
      "Training: Batch 850/938 Loss: 0.4175\n",
      "Training: Batch 900/938 Loss: 0.2629\n",
      "-------------------\n"
     ]
    }
   ],
   "source": [
    "def train_one_epoch(model, train_loader, optimizer, criterion):\n",
    "    # Set model to training mode\n",
    "    model.train()\n",
    "    \n",
    "    # Loop through each batch from our data loader\n",
    "    for batch_idx, (data, target) in enumerate(train_loader):\n",
    "        # Clear the gradients of all optimized variables\n",
    "        optimizer.zero_grad()\n",
    "        \n",
    "        # Forward pass: compute predicted outputs by passing inputs to the model\n",
    "        output = model(data)\n",
    "        \n",
    "        # Calculate loss\n",
    "        loss = criterion(output, target)\n",
    "        \n",
    "        # Backward pass: compute gradient of the loss with respect to model parameters\n",
    "        loss.backward()\n",
    "        \n",
    "        # Update the parameters\n",
    "        optimizer.step()\n",
    "        \n",
    "        # Print progress every 100 batches\n",
    "        if batch_idx % 50 == 0:\n",
    "            print(f'Training: Batch {batch_idx}/{len(train_loader)} Loss: {loss.item():.4f}')\n",
    "\n",
    "# Set number of epochs (how many times we'll train on the entire dataset)\n",
    "n_epochs = 2\n",
    "\n",
    "# Training loop\n",
    "for epoch in range(n_epochs):\n",
    "    print(f'Epoch {epoch+1}/{n_epochs}')\n",
    "    train_one_epoch(model, train_loader, optimizer, criterion)\n",
    "    print('-------------------')"
   ]
  },
  {
   "cell_type": "markdown",
   "id": "47f9990e-a5e8-4781-8614-9cb1e6660d6a",
   "metadata": {},
   "source": [
    "### Check Accuracy"
   ]
  },
  {
   "cell_type": "code",
   "execution_count": 23,
   "id": "738c40b6-e513-4de8-8180-dc6aa60132a1",
   "metadata": {},
   "outputs": [],
   "source": [
    "def test_accuracy(model, test_loader):\n",
    "    model.eval()  # Set model to evaluation mode\n",
    "    correct = 0\n",
    "    total = 0\n",
    "    \n",
    "    # Don't compute gradients during testing\n",
    "    with torch.no_grad():\n",
    "        for data, target in test_loader:\n",
    "            # Get predictions\n",
    "            outputs = model(data)\n",
    "            # Get the predicted class (digit)\n",
    "            _, predicted = torch.max(outputs.data, 1)\n",
    "            # Count total and correct predictions\n",
    "            total += target.size(0)\n",
    "            correct += (predicted == target).sum().item()\n",
    "    \n",
    "    accuracy = 100 * correct / total\n",
    "    print(f'Accuracy: {accuracy:.2f}%')"
   ]
  },
  {
   "cell_type": "markdown",
   "id": "fcf02658-a6f9-4ec8-99da-7be3963e4880",
   "metadata": {},
   "source": [
    "#### Predict Actual Digits"
   ]
  },
  {
   "cell_type": "code",
   "execution_count": 24,
   "id": "21c4f253-3e46-44e1-bb0d-bfb204e08420",
   "metadata": {},
   "outputs": [
    {
     "name": "stdout",
     "output_type": "stream",
     "text": [
      "Testing model accuracy...\n",
      "Accuracy: 92.60%\n",
      "\n",
      "Saving model...\n",
      "\n",
      "Making some predictions...\n",
      "True digit: 7 | Predicted digit: 7\n",
      "True digit: 2 | Predicted digit: 2\n",
      "True digit: 1 | Predicted digit: 1\n",
      "True digit: 0 | Predicted digit: 0\n",
      "True digit: 4 | Predicted digit: 4\n",
      "True digit: 1 | Predicted digit: 1\n",
      "True digit: 4 | Predicted digit: 4\n",
      "True digit: 9 | Predicted digit: 9\n",
      "True digit: 5 | Predicted digit: 6\n",
      "True digit: 9 | Predicted digit: 9\n",
      "True digit: 0 | Predicted digit: 0\n",
      "True digit: 6 | Predicted digit: 6\n",
      "True digit: 9 | Predicted digit: 9\n",
      "True digit: 0 | Predicted digit: 0\n",
      "True digit: 1 | Predicted digit: 1\n"
     ]
    }
   ],
   "source": [
    "def predict_digit(model, test_loader):\n",
    "    model.eval()\n",
    "    \n",
    "    # Get a single batch of test data\n",
    "    dataiter = iter(test_loader)\n",
    "    images, labels = next(dataiter)\n",
    "    \n",
    "    # Get predictions for the first few images\n",
    "    with torch.no_grad():\n",
    "        outputs = model(images[:15])  # Let's look at first 15 images\n",
    "        _, predictions = torch.max(outputs, 1)\n",
    "    \n",
    "    # Print results\n",
    "    for i in range(15):\n",
    "        print(f'True digit: {labels[i]} | Predicted digit: {predictions[i]}')\n",
    "\n",
    "# Let's use all of these:\n",
    "print(\"Testing model accuracy...\")\n",
    "test_accuracy(model, test_loader)\n",
    "\n",
    "print(\"\\nSaving model...\")\n",
    "torch.save(model.state_dict(), 'mnist_model.pth')\n",
    "\n",
    "print(\"\\nMaking some predictions...\")\n",
    "predict_digit(model, test_loader)"
   ]
  }
 ],
 "metadata": {
  "kernelspec": {
   "display_name": "Python 3.12 (PyTorch)",
   "language": "python",
   "name": "torch-ml-312"
  },
  "language_info": {
   "codemirror_mode": {
    "name": "ipython",
    "version": 3
   },
   "file_extension": ".py",
   "mimetype": "text/x-python",
   "name": "python",
   "nbconvert_exporter": "python",
   "pygments_lexer": "ipython3",
   "version": "3.12.7"
  }
 },
 "nbformat": 4,
 "nbformat_minor": 5
}
