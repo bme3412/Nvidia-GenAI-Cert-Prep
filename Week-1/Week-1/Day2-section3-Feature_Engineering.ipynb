{
 "cells": [
  {
   "cell_type": "markdown",
   "id": "8cb8517b-088c-4c30-a3de-40fac0e0a674",
   "metadata": {},
   "source": [
    "### Feature Engineering"
   ]
  },
  {
   "cell_type": "markdown",
   "id": "7f044eef-1587-446b-9535-94efa885171b",
   "metadata": {},
   "source": [
    "#### 30,000 Foot View: \n",
    "+ Used to transform data to make it easier to extract information and to feed the transformed data into neural networks\n",
    "+ includes data transformation across numerical features, categorical features, time-based features, and text-based features engineering"
   ]
  },
  {
   "cell_type": "markdown",
   "id": "60e85f90-0fa7-4438-b5c0-95e218b663ea",
   "metadata": {},
   "source": [
    "------------"
   ]
  },
  {
   "cell_type": "markdown",
   "id": "c4f05f18-8fe5-4374-8d2d-ff8116ebb09c",
   "metadata": {},
   "source": [
    "#### Numerical Features:\n",
    "+ 1. Scaling (normalization, standardization)\n",
    "     + Takes numerical values from earnings calls (like revenue mentions, growth percentages, or profit discussions) and standardizes them to be comparable.\n",
    "        \n",
    "+ 2. Binning continuous variables\n",
    "     + Groups continuous numbers into categories. In transcripts, this could mean grouping companies by:\n",
    "     + 1. Frequency of mentioning growth: low (0-5 mentions), medium (6-10 mentions), high (11+ mentions)\n",
    "       2. Sentiment scores: very negative (-1 to -0.5), negative (-0.5 to 0), positive (0 to 0.5), very positive (0.5 to 1)\n",
    " \n",
    "\n",
    "+ 3. Handling outliers\n",
    "+ 4. Creating polynomial features"
   ]
  },
  {
   "cell_type": "markdown",
   "id": "f6704b41-b372-4fd9-a509-8af180ceb9e2",
   "metadata": {},
   "source": [
    "#### Categorical Features\n",
    "+ 1. One-hot encoding\n",
    "     + Converts categories into binary columns. For earnings calls, this could transform: 1. Industry sectors (Tech, Healthcare, Finance); 2. Speaker roles (CEO, CFO, Analyst); 3. Call segments (Opening Remarks, Q&A, Closing)\n",
    "+ 2. Label encoding\n",
    "     + Assigns numbers to categories. Useful for: 1. Converting sentiment labels (positive=2, neutral=1, negative=0); 2. Encoding quarters (Q1=0, Q2=1, Q3=2, Q4=3); 3. Rating speakers (C-suite=3, Senior Management=2, Analysts=1)\n",
    "+ 3. Target encoding\n",
    "+ 4. Feature hashing"
   ]
  },
  {
   "cell_type": "markdown",
   "id": "e68db001-85ac-4a75-80eb-431acb0b4c85",
   "metadata": {},
   "source": [
    "#### Time-based Features:\n",
    "+ 1. Extracting date components (year, month, day):\n",
    "     + Extracts meaningful time elements from earnings call dates: 1. Quarter of fiscal year; 2. Month of quarter; 3. Day of week; Time of day\n",
    "+ 2. Creating time windows\n",
    "+ 3. Lag features\n",
    "+ 4. Rolling statistics\n",
    "     + Tracks patterns over time, such as: 1. Average sentiment over last 3 earnings calls; 2. Trend in number of risk-related terms; 3. Pattern of analyst questions over quarters"
   ]
  },
  {
   "cell_type": "markdown",
   "id": "3c606d92-3d4e-4115-a3c5-9492be6c54f3",
   "metadata": {},
   "source": [
    "#### Text Features:\n",
    "\n",
    "+ 1. TF-IDF\n",
    "     + TF-IDF: measures word importance across all transcripts. Highlights: 1. Unique terms specific to particular companies; 2. Industry-specific jargon; 3. Unusual topics that appear rarely\n",
    "+ 2. Word embeddings:\n",
    "     + Creates numerical representations capturing word meanings. Useful for: 1. Finding similar terms (\"revenue\" ≈ \"sales\" ≈ \"income\");2. Identifying related concepts (\"growth\" relates to \"expansion\"); 3. Grouping similar discussions\n",
    "+ 3. N-grams\n",
    "+ 4. Text preprocessing (lemmatization, stopwords):\n",
    "     + Cleans transcript text by: 1. Removing speaker identifications; 2. Standardizing numbers and percentages; 3. Eliminating common corporate speak; 4. Converting all text to lowercase; 5. Removing punctuation and special characters"
   ]
  },
  {
   "cell_type": "code",
   "execution_count": null,
   "id": "758e260a-362e-4728-b355-9dc89cfcd1f1",
   "metadata": {},
   "outputs": [],
   "source": []
  }
 ],
 "metadata": {
  "kernelspec": {
   "display_name": "Python 3.12 (PyTorch)",
   "language": "python",
   "name": "torch-ml-312"
  },
  "language_info": {
   "codemirror_mode": {
    "name": "ipython",
    "version": 3
   },
   "file_extension": ".py",
   "mimetype": "text/x-python",
   "name": "python",
   "nbconvert_exporter": "python",
   "pygments_lexer": "ipython3",
   "version": "3.12.7"
  }
 },
 "nbformat": 4,
 "nbformat_minor": 5
}
