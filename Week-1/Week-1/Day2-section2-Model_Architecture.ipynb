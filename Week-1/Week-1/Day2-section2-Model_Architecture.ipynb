{
 "cells": [
  {
   "cell_type": "markdown",
   "id": "1f0704d1-04bb-4683-9718-041965798ed4",
   "metadata": {},
   "source": [
    "### Model-Architecture, CNN & RNN basics"
   ]
  },
  {
   "cell_type": "markdown",
   "id": "1d8edc66-9cb1-4fe2-8275-549e0500e43c",
   "metadata": {},
   "source": [
    "#### 30,000 Foot View:\n",
    "+ Convolutional Neural Networks (CNNs) and Recurrent Neural Networks (RNNs) are two fundamental architectures in deep learning;\n",
    "    + **CNNs** are primarily used for processing `grid-like data`, such as images. They have become the go-to architecture for computer vision tasks,\n",
    "    + **RNNs** are designed for `sequential data`, making them suitable for tasks like natural language processing and speech recognition\n",
    "    + Both CNNs and RNNs have significantly advanced the field of deep learning, with CNNs excelling in spatial data analysis and RNNs in temporal data processing"
   ]
  },
  {
   "cell_type": "markdown",
   "id": "074964da-1006-4b29-97a5-2989294d8a66",
   "metadata": {},
   "source": [
    "------------------------"
   ]
  },
  {
   "cell_type": "markdown",
   "id": "8da457f6-ae68-47f4-ba6d-c856d4115e36",
   "metadata": {},
   "source": [
    "#### Convolutional Neural Networks (CNNs)\n",
    "+ Convolutional Neural Networks (CNNs) are specialized deep learning models designed primarily for processing **`grid-like data`**, such as images.\n",
    "\n",
    "+ The **key components** are the convolutional layer, the pooling layer, the activation layer and the fully connected layer.\n",
    "    + `Convolutional layer`: applies filters to the input data to detect features; filters slide across the input, performing element-wise multiplication and summation and detects specific patterns like edges, textures, or shapes\n",
    "    + `Pooling Layer`: reduces the spatial dimensions of the data while preserving important features\n",
    "    + `Activation Layer`: applies non-linear functions (ReLU), to introduce non-linearity\n",
    "    + `Fully Connected Layer`: flattens the data and performs classification\n",
    "\n",
    "---------\n",
    "+ CNNs have a wide range of applications:\n",
    "    + Image and video recognition\n",
    "    + Object detection and image segmentation\n",
    "    + Natural language processing\n",
    "    + Autonomous systems (e.g., self-driving cars)\n",
    "    + Medical image analysis\n",
    "    + Financial time series analysi"
   ]
  },
  {
   "cell_type": "markdown",
   "id": "119eb63d-4576-4077-98fe-9bf72f397308",
   "metadata": {},
   "source": [
    "------"
   ]
  },
  {
   "cell_type": "markdown",
   "id": "cc2f7233-fea2-46ab-8aa6-f6052b3d322c",
   "metadata": {},
   "source": [
    "#### Recurrent Neural Networks (RNNs)\n",
    "+ Recurrent Neural Networks (RNNs) are specialized deep learning models designed to process **`sequential data`**. They have a unique architecture that allows them to maintain a form of memory, making them particularly effective for tasks involving time series or ordered information\n",
    "\n",
    "+ Key features of RNNs include sequential data processing; memory mechanism, and paramater sharing:\n",
    "    + `sequential data processing`: RNNs can handle inputs of varying lengths, making them ideal for tasks like natural language processing and time series analysis\n",
    "    + `memory mechanism`: RNNs have an internal state (hidden state) that acts as a memory, allowing them to capture information from previous inputs\n",
    "    + `parameter sharing`: RNNs share the same weights across different time steps, which helps in reducing the number of parameters to be learned"
   ]
  },
  {
   "cell_type": "markdown",
   "id": "0e2c0f9a-1016-490c-b517-46e7ff8b1718",
   "metadata": {},
   "source": [
    "---------"
   ]
  },
  {
   "cell_type": "markdown",
   "id": "2ecc4588-eff1-4369-9062-66be5623cfcc",
   "metadata": {},
   "source": [
    "+ RNNs have a wide range of applications including:\n",
    "    + Natural Language Processing (NLP)\n",
    "    + Speech recognition\n",
    "    + time series analysis\n",
    "    + image and video analysis"
   ]
  },
  {
   "cell_type": "code",
   "execution_count": null,
   "id": "d061c7d1-5c0a-4619-bf96-5392c85b2021",
   "metadata": {},
   "outputs": [],
   "source": []
  }
 ],
 "metadata": {
  "kernelspec": {
   "display_name": "Python 3.12 (PyTorch)",
   "language": "python",
   "name": "torch-ml-312"
  },
  "language_info": {
   "codemirror_mode": {
    "name": "ipython",
    "version": 3
   },
   "file_extension": ".py",
   "mimetype": "text/x-python",
   "name": "python",
   "nbconvert_exporter": "python",
   "pygments_lexer": "ipython3",
   "version": "3.12.7"
  }
 },
 "nbformat": 4,
 "nbformat_minor": 5
}
