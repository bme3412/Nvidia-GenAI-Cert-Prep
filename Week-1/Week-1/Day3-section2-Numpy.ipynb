{
 "cells": [
  {
   "cell_type": "markdown",
   "id": "5bbb8352-258d-490a-a7e6-0a9493278450",
   "metadata": {},
   "source": [
    "#### NumPy and Vector Operations"
   ]
  },
  {
   "cell_type": "markdown",
   "id": "25f07854-5fd9-49ee-a1bf-19c482516a70",
   "metadata": {},
   "source": [
    "#### Array Operations"
   ]
  },
  {
   "cell_type": "markdown",
   "id": "1d3eb83c-8cfc-4403-801f-aa78f9f8bb83",
   "metadata": {},
   "source": [
    "##### 1. Basic Array Creation and Operations:"
   ]
  },
  {
   "cell_type": "code",
   "execution_count": 6,
   "id": "e0263dda-207e-4319-a4b4-7923b4b18894",
   "metadata": {},
   "outputs": [
    {
     "name": "stdout",
     "output_type": "stream",
     "text": [
      "[1 2 3 4 5 6] [[1 2 3]\n",
      " [4 5 6]]\n"
     ]
    }
   ],
   "source": [
    "import numpy as np\n",
    "\n",
    "# Creating arrays\n",
    "array_1d = np.array([1, 2, 3, 4, 5])\n",
    "array_2d = np.array([[1, 2, 3], [4, 5, 6]])\n",
    "zeros = np.zeros((3, 3))\n",
    "ones = np.ones((2, 4))\n",
    "random_array = np.random.random((3, 3))\n",
    "\n",
    "# Exercise 1: Create an array of evenly spaced numbers\n",
    "# Useful for creating embedding dimensions or attention layers\n",
    "x = np.linspace(0, 10, 100)  # 100 points between 0 and 10\n",
    "\n",
    "# Exercise 2: Reshape operations\n",
    "# Common in transforming data for neural network inputs\n",
    "original = np.array([1, 2, 3, 4, 5, 6])\n",
    "reshaped = original.reshape(2, 3)\n",
    "print(original, reshaped)"
   ]
  },
  {
   "cell_type": "markdown",
   "id": "17add83d-4b9b-4d75-9215-3887fa32e2d8",
   "metadata": {},
   "source": [
    "##### 2. Array Indexing and Slicing"
   ]
  },
  {
   "cell_type": "code",
   "execution_count": 7,
   "id": "42b1bf93-3415-42d9-bf50-885964a907ee",
   "metadata": {},
   "outputs": [
    {
     "name": "stdout",
     "output_type": "stream",
     "text": [
      "[[1 2 3]\n",
      " [7 8 9]]\n"
     ]
    }
   ],
   "source": [
    "# Advanced indexing\n",
    "array_2d = np.array([[1, 2, 3], \n",
    "                     [4, 5, 6],\n",
    "                     [7, 8, 9]])\n",
    "\n",
    "# Exercise 3: Extract specific elements\n",
    "# Get elements > 5\n",
    "mask = array_2d > 5\n",
    "filtered = array_2d[mask]\n",
    "\n",
    "# Exercise 4: Fancy indexing\n",
    "indices = np.array([0, 2])\n",
    "selected_rows = array_2d[indices]\n",
    "print(selected_rows)"
   ]
  },
  {
   "cell_type": "markdown",
   "id": "974fac23-a86e-4519-a691-621c2639a08c",
   "metadata": {},
   "source": [
    "##### 3. Mathematical Operations"
   ]
  },
  {
   "cell_type": "code",
   "execution_count": 8,
   "id": "6c79b7c6-baf7-458e-8711-f175761e9ce3",
   "metadata": {},
   "outputs": [
    {
     "name": "stdout",
     "output_type": "stream",
     "text": [
      "[[19 22]\n",
      " [43 50]]\n"
     ]
    }
   ],
   "source": [
    "# Exercise 5: Element-wise operations\n",
    "array1 = np.array([1, 2, 3])\n",
    "array2 = np.array([4, 5, 6])\n",
    "\n",
    "addition = array1 + array2\n",
    "multiplication = array1 * array2\n",
    "exponential = np.exp(array1)\n",
    "logarithm = np.log(array1)\n",
    "\n",
    "# Exercise 6: Matrix operations\n",
    "matrix1 = np.array([[1, 2], [3, 4]])\n",
    "matrix2 = np.array([[5, 6], [7, 8]])\n",
    "\n",
    "# Matrix multiplication (crucial for neural network layers)\n",
    "dot_product = np.dot(matrix1, matrix2)\n",
    "# or\n",
    "matrix_product = matrix1 @ matrix2\n",
    "print(matrix_product)"
   ]
  },
  {
   "cell_type": "markdown",
   "id": "5125d9f7-b1bd-4862-9bb9-9d07f31ee6cb",
   "metadata": {},
   "source": [
    "##### 4. Broadcasting"
   ]
  },
  {
   "cell_type": "code",
   "execution_count": 9,
   "id": "b70c3ed7-0c21-4d87-a1f5-38cf90046bca",
   "metadata": {},
   "outputs": [
    {
     "name": "stdout",
     "output_type": "stream",
     "text": [
      "[[[0.61578176 0.15212028 1.40683735 0.17210726 0.54772722]\n",
      "  [0.93918584 0.47912948 0.18782139 0.91190464 0.17737532]\n",
      "  [1.38484873 0.07668834 0.38012341 1.40896231 0.53560712]\n",
      "  [1.14630019 1.73712865 0.67696329 1.1248982  1.25522578]]\n",
      "\n",
      " [[0.52782386 0.41956791 1.51573287 0.20767379 1.36556653]\n",
      "  [0.2724281  1.06395331 0.80253777 0.28183605 0.70911749]\n",
      "  [0.63397481 0.17590356 0.4955363  0.85323566 0.85072373]\n",
      "  [0.15262266 1.5098641  0.38949707 1.91472139 1.27425726]]\n",
      "\n",
      " [[1.08969881 0.16735279 1.30873921 0.96914696 0.97278703]\n",
      "  [0.96098152 0.75985185 0.11757661 0.74416052 0.55728947]\n",
      "  [0.68434994 0.60708098 0.50798673 1.31879725 0.3556497 ]\n",
      "  [0.46514038 1.42827109 0.606397   1.27111881 0.65310077]]]\n"
     ]
    }
   ],
   "source": [
    "# Exercise 7: Broadcasting with different shapes\n",
    "matrix = np.array([[1, 2, 3],\n",
    "                  [4, 5, 6]])\n",
    "vector = np.array([10, 20, 30])\n",
    "\n",
    "# Broadcasting the vector across each row\n",
    "broadcasted = matrix + vector\n",
    "\n",
    "# Exercise 8: Broadcasting with dimensions\n",
    "array_3d = np.random.random((3, 4, 5))\n",
    "array_2d = np.random.random((4, 5))\n",
    "# Broadcasting across the first dimension\n",
    "result = array_3d + array_2d\n",
    "print(result)"
   ]
  },
  {
   "cell_type": "markdown",
   "id": "106bcdfa-b73f-4417-80de-ed7c01881ff3",
   "metadata": {},
   "source": [
    "------"
   ]
  },
  {
   "cell_type": "markdown",
   "id": "8f43959e-7d93-469d-aab0-5d9c73d9ca86",
   "metadata": {},
   "source": [
    "#### Broadcasting Rules\n",
    "+ Broadcasting is NumPy's way of performing arithmetic operations on arrays of different shapes.\n",
    "+ It provides a powerful mechanism for performing element-wise operations without creating unnecessary copies of data\n",
    "+ Key concepts:\n",
    "    + Arrays must have compatible shapes\n",
    "    + Operations are performed element-wise\n",
    "    + Broadcasting reduces memory usage and computation time"
   ]
  },
  {
   "cell_type": "code",
   "execution_count": 10,
   "id": "25597009-e635-4d91-af9b-54e6a20b0b4a",
   "metadata": {},
   "outputs": [],
   "source": [
    "# Title: NumPy Broadcasting Rules Tutorial\n",
    "import numpy as np\n",
    "import matplotlib.pyplot as plt\n",
    "\n",
    "# Set printing options for clearer output\n",
    "np.set_printoptions(precision=2, suppress=True)"
   ]
  },
  {
   "cell_type": "markdown",
   "id": "fc6dc3d6-cdc8-4be3-a2be-7bf988c60a60",
   "metadata": {},
   "source": [
    "##### First Rule - Shape Alignment:"
   ]
  },
  {
   "cell_type": "code",
   "execution_count": 11,
   "id": "6432f013-0a93-4384-9aad-145ce8432567",
   "metadata": {},
   "outputs": [
    {
     "name": "stdout",
     "output_type": "stream",
     "text": [
      "Array 1D shape: (3,)\n",
      "Array 2D shape: (3, 1)\n",
      "\n",
      "Broadcasted result:\n",
      "[[5 6 7]\n",
      " [6 7 8]\n",
      " [7 8 9]]\n"
     ]
    }
   ],
   "source": [
    "# Rule 1: Arrays are aligned at their last dimension\n",
    "# Create arrays of different shapes\n",
    "array_1d = np.array([1, 2, 3])  # Shape: (3,)\n",
    "array_2d = np.array([[4], [5], [6]])  # Shape: (3, 1)\n",
    "\n",
    "print(\"Array 1D shape:\", array_1d.shape)\n",
    "print(\"Array 2D shape:\", array_2d.shape)\n",
    "print(\"\\nBroadcasted result:\")\n",
    "result = array_1d + array_2d\n",
    "print(result)"
   ]
  },
  {
   "cell_type": "markdown",
   "id": "14c1b356-4840-40a5-8319-20a95e44ca65",
   "metadata": {},
   "source": [
    "##### Shape Compatibility Check:"
   ]
  },
  {
   "cell_type": "code",
   "execution_count": 12,
   "id": "e6a595d5-902a-4ca1-b0c0-69e684e809fc",
   "metadata": {},
   "outputs": [
    {
     "name": "stdout",
     "output_type": "stream",
     "text": [
      "Shapes (3,) and (3,) are compatible\n",
      "Shapes (3, 1) and (3,) are compatible\n",
      "Shapes (1, 3) and (3,) are compatible\n",
      "Shapes (3, 3) and (3,) are compatible\n",
      "Shapes (3, 2) and (2,) are compatible\n"
     ]
    }
   ],
   "source": [
    "def check_broadcast_compatibility(shape1, shape2):\n",
    "    \"\"\"\n",
    "    Check if two shapes are broadcast compatible\n",
    "    Returns True if compatible, False otherwise\n",
    "    \"\"\"\n",
    "    # Pad shorter shape with ones\n",
    "    diff = len(shape1) - len(shape2)\n",
    "    if diff > 0:\n",
    "        shape2 = (1,) * diff + shape2\n",
    "    elif diff < 0:\n",
    "        shape1 = (1,) * (-diff) + shape1\n",
    "    \n",
    "    # Check compatibility\n",
    "    for s1, s2 in zip(shape1, shape2):\n",
    "        if s1 != s2 and s1 != 1 and s2 != 1:\n",
    "            return False\n",
    "    return True\n",
    "\n",
    "# Test cases\n",
    "shapes = [\n",
    "    ((3,), (3,)),\n",
    "    ((3, 1), (3,)),\n",
    "    ((1, 3), (3,)),\n",
    "    ((3, 3), (3,)),\n",
    "    ((3, 2), (2,)),\n",
    "]\n",
    "\n",
    "for shape1, shape2 in shapes:\n",
    "    print(f\"Shapes {shape1} and {shape2} are\",\n",
    "          \"compatible\" if check_broadcast_compatibility(shape1, shape2) else \"not compatible\")"
   ]
  },
  {
   "cell_type": "markdown",
   "id": "8e5ee455-7edc-468c-a86d-0bf02468c904",
   "metadata": {},
   "source": [
    "##### Examples"
   ]
  },
  {
   "cell_type": "code",
   "execution_count": 14,
   "id": "c4e91cd0-e98c-45b5-b74a-3db50fb75b4f",
   "metadata": {},
   "outputs": [
    {
     "name": "stdout",
     "output_type": "stream",
     "text": [
      "Original array:\n",
      "[[1 2 3]\n",
      " [4 5 6]]\n",
      "\n",
      "After broadcasting with scalar:\n",
      "[[ 2  4  6]\n",
      " [ 8 10 12]]\n",
      "\n",
      "Broadcasting array with vector:\n",
      "[[11 22 33]\n",
      " [14 25 36]]\n",
      "\n",
      "3D array shape: (2, 3, 4)\n",
      "2D array shape: (3, 4)\n",
      "Result shape: (2, 3, 4)\n"
     ]
    }
   ],
   "source": [
    "# Example 1: Broadcasting with scalars\n",
    "array = np.array([[1, 2, 3],\n",
    "                  [4, 5, 6]])\n",
    "scalar = 2\n",
    "\n",
    "print(\"Original array:\")\n",
    "print(array)\n",
    "print(\"\\nAfter broadcasting with scalar:\")\n",
    "print(array * scalar)\n",
    "\n",
    "# Example 2: Broadcasting with vectors\n",
    "vector = np.array([10, 20, 30])\n",
    "print(\"\\nBroadcasting array with vector:\")\n",
    "print(array + vector)\n",
    "\n",
    "# Example 3: Broadcasting in higher dimensions\n",
    "array_3d = np.random.rand(2, 3, 4)\n",
    "array_2d = np.random.rand(3, 4)\n",
    "result = array_3d + array_2d\n",
    "print(\"\\n3D array shape:\", array_3d.shape)\n",
    "print(\"2D array shape:\", array_2d.shape)\n",
    "print(\"Result shape:\", result.shape)"
   ]
  },
  {
   "cell_type": "markdown",
   "id": "03385788-87f6-4bc9-b68f-52db5b1ff903",
   "metadata": {},
   "source": [
    "##### Visual Broadcasting Example"
   ]
  },
  {
   "cell_type": "code",
   "execution_count": 15,
   "id": "d464b733-b33b-4e86-9166-d07308151a25",
   "metadata": {},
   "outputs": [
    {
     "data": {
      "image/png": "[encoded data removed]",
      "text/plain": [
       "<Figure size 1000x800 with 2 Axes>"
      ]
     },
     "metadata": {},
     "output_type": "display_data"
    }
   ],
   "source": [
    "def visualize_broadcasting():\n",
    "    # Create coordinate matrices\n",
    "    x = np.linspace(-5, 5, 100)\n",
    "    y = np.linspace(-5, 5, 100)\n",
    "    X, Y = np.meshgrid(x, y)\n",
    "    \n",
    "    # Broadcasting in action: create a 2D Gaussian\n",
    "    Z = np.exp(-(X**2 + Y**2) / 2)\n",
    "    \n",
    "    plt.figure(figsize=(10, 8))\n",
    "    plt.contourf(X, Y, Z, levels=20)\n",
    "    plt.colorbar(label='Value')\n",
    "    plt.title('2D Gaussian using Broadcasting')\n",
    "    plt.xlabel('X')\n",
    "    plt.ylabel('Y')\n",
    "    plt.show()\n",
    "\n",
    "visualize_broadcasting()"
   ]
  },
  {
   "cell_type": "markdown",
   "id": "165e354e-5132-4f1c-9628-1899995bf828",
   "metadata": {},
   "source": [
    "--------"
   ]
  },
  {
   "cell_type": "markdown",
   "id": "2c7dd7e2-a076-4db9-a186-b3ec7b09af4e",
   "metadata": {},
   "source": [
    "### Linear Algebra Operations with NumPy"
   ]
  },
  {
   "cell_type": "code",
   "execution_count": 17,
   "id": "e4e6ad82-1dfe-4027-9774-f82d6d286e9b",
   "metadata": {},
   "outputs": [],
   "source": [
    "import numpy as np\n",
    "from numpy.linalg import inv, det, eig, svd, norm\n",
    "\n",
    "# Configure NumPy printing options\n",
    "np.set_printoptions(precision=3, suppress=True)"
   ]
  },
  {
   "cell_type": "markdown",
   "id": "26f2e7d7-7839-470b-a53a-d2c943c41257",
   "metadata": {},
   "source": [
    "#### 1. Matrix Creation and Basic Operations\n",
    "+ First, let's look at different ways to create matrices and perform basic operations."
   ]
  },
  {
   "cell_type": "code",
   "execution_count": 18,
   "id": "d1d2bf1f-c4d0-4cbc-b0a4-9c74e6aff3c6",
   "metadata": {},
   "outputs": [
    {
     "name": "stdout",
     "output_type": "stream",
     "text": [
      "Matrix A:\n",
      "[[1 2 3]\n",
      " [4 5 6]\n",
      " [7 8 9]]\n",
      "\n",
      "Matrix B:\n",
      "[[9 8 7]\n",
      " [6 5 4]\n",
      " [3 2 1]]\n",
      "\n",
      "Matrix Addition (A + B):\n",
      "[[10 10 10]\n",
      " [10 10 10]\n",
      " [10 10 10]]\n",
      "\n",
      "Matrix Multiplication (A @ B):\n",
      "[[ 30  24  18]\n",
      " [ 84  69  54]\n",
      " [138 114  90]]\n"
     ]
    }
   ],
   "source": [
    "# Create matrices\n",
    "A = np.array([[1, 2, 3],\n",
    "              [4, 5, 6],\n",
    "              [7, 8, 9]])\n",
    "\n",
    "B = np.array([[9, 8, 7],\n",
    "              [6, 5, 4],\n",
    "              [3, 2, 1]])\n",
    "\n",
    "# Basic matrix operations\n",
    "print(\"Matrix A:\")\n",
    "print(A)\n",
    "print(\"\\nMatrix B:\")\n",
    "print(B)\n",
    "print(\"\\nMatrix Addition (A + B):\")\n",
    "print(A + B)\n",
    "print(\"\\nMatrix Multiplication (A @ B):\")\n",
    "print(A @ B)  # or np.matmul(A, B) or np.dot(A, B)"
   ]
  },
  {
   "cell_type": "markdown",
   "id": "b8476470-6fd5-4d59-b761-ae27ebf2352c",
   "metadata": {},
   "source": [
    "#### 2. Matrix Properties and Transformations\n",
    "+ Let's explore various matrix properties and transformations."
   ]
  },
  {
   "cell_type": "code",
   "execution_count": 19,
   "id": "e5e6d38f-7a2c-498e-9b59-e10bab0c5750",
   "metadata": {},
   "outputs": [
    {
     "name": "stdout",
     "output_type": "stream",
     "text": [
      "Matrix Properties:\n",
      "Matrix shape: (3, 3)\n",
      "Matrix rank: 3\n",
      "Matrix trace: 9\n",
      "Matrix determinant: 13.0\n",
      "\n",
      "Transpose:\n",
      "[[2 1 1]\n",
      " [1 3 2]\n",
      " [1 2 4]]\n",
      "\n",
      "Inverse matrix:\n",
      "[[ 0.615 -0.154 -0.077]\n",
      " [-0.154  0.538 -0.231]\n",
      " [-0.077 -0.231  0.385]]\n",
      "\n",
      "Verification (should be close to identity matrix):\n",
      "[[1. 0. 0.]\n",
      " [0. 1. 0.]\n",
      " [0. 0. 1.]]\n"
     ]
    }
   ],
   "source": [
    "def explore_matrix_properties(matrix):\n",
    "    \"\"\"Explore basic properties of a matrix\"\"\"\n",
    "    print(f\"Matrix shape: {matrix.shape}\")\n",
    "    print(f\"Matrix rank: {np.linalg.matrix_rank(matrix)}\")\n",
    "    print(f\"Matrix trace: {np.trace(matrix)}\")\n",
    "    print(f\"Matrix determinant: {det(matrix)}\")\n",
    "    print(\"\\nTranspose:\")\n",
    "    print(matrix.T)\n",
    "    \n",
    "# Create a non-singular matrix for demonstration\n",
    "C = np.array([[2, 1, 1],\n",
    "              [1, 3, 2],\n",
    "              [1, 2, 4]])\n",
    "\n",
    "print(\"Matrix Properties:\")\n",
    "explore_matrix_properties(C)\n",
    "\n",
    "# Compute inverse\n",
    "try:\n",
    "    C_inv = inv(C)\n",
    "    print(\"\\nInverse matrix:\")\n",
    "    print(C_inv)\n",
    "    \n",
    "    # Verify inverse\n",
    "    print(\"\\nVerification (should be close to identity matrix):\")\n",
    "    print(C @ C_inv)\n",
    "except np.linalg.LinAlgError as e:\n",
    "    print(\"Matrix is not invertible:\", e)"
   ]
  },
  {
   "cell_type": "markdown",
   "id": "e403e610-e304-46ae-9a22-1a1d3b78bb2b",
   "metadata": {},
   "source": [
    "#### 3. Eigenvalues and Eigenvectors\n",
    "+ Understanding eigenvalues and eigenvectors is crucial for many applications."
   ]
  },
  {
   "cell_type": "code",
   "execution_count": 20,
   "id": "885cf2ef-f9f4-4786-8202-8be56ace682e",
   "metadata": {},
   "outputs": [
    {
     "name": "stdout",
     "output_type": "stream",
     "text": [
      "Eigenvalue Analysis:\n",
      "Eigenvalues:\n",
      "[6.049 1.643 1.308]\n",
      "\n",
      "Eigenvectors (columns):\n",
      "[[-0.737  0.591  0.328]\n",
      " [ 0.591  0.328  0.737]\n",
      " [-0.328 -0.737  0.591]]\n",
      "\n",
      "Verification for eigenvalue 6.049:\n",
      "Av = [-4.458  3.575 -1.984]\n",
      "λv = [-4.458  3.575 -1.984]\n",
      "\n",
      "Verification for eigenvalue 1.643:\n",
      "Av = [ 0.971  0.539 -1.211]\n",
      "λv = [ 0.971  0.539 -1.211]\n",
      "\n",
      "Verification for eigenvalue 1.308:\n",
      "Av = [0.429 0.964 0.773]\n",
      "λv = [0.429 0.964 0.773]\n"
     ]
    }
   ],
   "source": [
    "def analyze_eigensystem(matrix):\n",
    "    \"\"\"Analyze eigenvalues and eigenvectors of a matrix\"\"\"\n",
    "    eigenvalues, eigenvectors = eig(matrix)\n",
    "    \n",
    "    print(\"Eigenvalues:\")\n",
    "    print(eigenvalues)\n",
    "    print(\"\\nEigenvectors (columns):\")\n",
    "    print(eigenvectors)\n",
    "    \n",
    "    # Verify eigenvalue equation: Av = λv\n",
    "    for i in range(len(eigenvalues)):\n",
    "        original = matrix @ eigenvectors[:, i]\n",
    "        scaled = eigenvalues[i] * eigenvectors[:, i]\n",
    "        print(f\"\\nVerification for eigenvalue {eigenvalues[i]:.3f}:\")\n",
    "        print(\"Av =\", original)\n",
    "        print(\"λv =\", scaled)\n",
    "        \n",
    "# Create a symmetric matrix for real eigenvalues\n",
    "D = np.array([[4, -2, 1],\n",
    "              [-2, 3, -1],\n",
    "              [1, -1, 2]])\n",
    "\n",
    "print(\"Eigenvalue Analysis:\")\n",
    "analyze_eigensystem(D)"
   ]
  },
  {
   "cell_type": "markdown",
   "id": "18c0018c-5fe7-45ae-86ae-09051394bf8a",
   "metadata": {},
   "source": [
    "#### 4. Singular Value Decomposition (SVD)\n",
    "+ SVD is a powerful matrix factorization method with many applications."
   ]
  },
  {
   "cell_type": "code",
   "execution_count": 21,
   "id": "d4a71fe3-ec0a-469a-a9d7-e13ea68920d4",
   "metadata": {},
   "outputs": [
    {
     "name": "stdout",
     "output_type": "stream",
     "text": [
      "SVD Analysis:\n",
      "Original matrix:\n",
      "[[1 2 0]\n",
      " [2 0 1]\n",
      " [0 1 2]]\n",
      "\n",
      "Left singular vectors (U):\n",
      "[[ 0.577  0.    -0.816]\n",
      " [ 0.577  0.707  0.408]\n",
      " [ 0.577 -0.707  0.408]]\n",
      "\n",
      "Singular values (s):\n",
      "[3.    1.732 1.732]\n",
      "\n",
      "Right singular vectors transposed (Vt):\n",
      "[[ 0.577  0.577  0.577]\n",
      " [ 0.816 -0.408 -0.408]\n",
      " [ 0.    -0.707  0.707]]\n",
      "\n",
      "Reconstructed matrix:\n",
      "[[ 1.  2. -0.]\n",
      " [ 2. -0.  1.]\n",
      " [ 0.  1.  2.]]\n"
     ]
    }
   ],
   "source": [
    "def perform_svd_analysis(matrix):\n",
    "    \"\"\"Perform and analyze SVD decomposition\"\"\"\n",
    "    U, s, Vt = svd(matrix)\n",
    "    \n",
    "    print(\"Original matrix:\")\n",
    "    print(matrix)\n",
    "    print(\"\\nLeft singular vectors (U):\")\n",
    "    print(U)\n",
    "    print(\"\\nSingular values (s):\")\n",
    "    print(s)\n",
    "    print(\"\\nRight singular vectors transposed (Vt):\")\n",
    "    print(Vt)\n",
    "    \n",
    "    # Reconstruct matrix\n",
    "    reconstructed = U @ np.diag(s) @ Vt\n",
    "    print(\"\\nReconstructed matrix:\")\n",
    "    print(reconstructed)\n",
    "    \n",
    "# Create a matrix for SVD\n",
    "E = np.array([[1, 2, 0],\n",
    "              [2, 0, 1],\n",
    "              [0, 1, 2]])\n",
    "\n",
    "print(\"SVD Analysis:\")\n",
    "perform_svd_analysis(E)"
   ]
  },
  {
   "cell_type": "markdown",
   "id": "b6f2e55b-7110-4ddb-bf71-f0368a5fba82",
   "metadata": {},
   "source": [
    "#### 5. Solving Linear Systems\n",
    "+ Solving systems of linear equations is a common task in linear algebra."
   ]
  },
  {
   "cell_type": "code",
   "execution_count": 22,
   "id": "5d52e347-3bfa-45b1-a3d2-0c033351613e",
   "metadata": {},
   "outputs": [
    {
     "name": "stdout",
     "output_type": "stream",
     "text": [
      "Solving Linear System:\n",
      "Solution x:\n",
      "[1. 2. 3.]\n",
      "\n",
      "Verification (Ax):\n",
      "[ 2. 12. 10.]\n",
      "Original b:\n",
      "[ 2 12 10]\n"
     ]
    }
   ],
   "source": [
    "def solve_linear_system(A, b):\n",
    "    \"\"\"Solve the linear system Ax = b\"\"\"\n",
    "    try:\n",
    "        x = np.linalg.solve(A, b)\n",
    "        print(\"Solution x:\")\n",
    "        print(x)\n",
    "        print(\"\\nVerification (Ax):\")\n",
    "        print(A @ x)\n",
    "        print(\"Original b:\")\n",
    "        print(b)\n",
    "    except np.linalg.LinAlgError as e:\n",
    "        print(\"Cannot solve system:\", e)\n",
    "\n",
    "# Create a system of equations\n",
    "A = np.array([[3, 1, -1],\n",
    "              [1, 4, 1],\n",
    "              [2, 1, 2]])\n",
    "b = np.array([2, 12, 10])\n",
    "\n",
    "print(\"Solving Linear System:\")\n",
    "solve_linear_system(A, b)"
   ]
  },
  {
   "cell_type": "markdown",
   "id": "28684889-922b-4392-8a65-bc9ac0149e91",
   "metadata": {},
   "source": [
    "#### 6. Matrix Decompositions\n",
    "+ Let's explore different types of matrix decompositions."
   ]
  },
  {
   "cell_type": "code",
   "execution_count": 23,
   "id": "29aa033d-a351-48d4-9e5c-fbedaa145dcb",
   "metadata": {},
   "outputs": [
    {
     "name": "stdout",
     "output_type": "stream",
     "text": [
      "Matrix Decompositions:\n",
      "LU Decomposition:\n",
      "L (Lower triangular):\n",
      "[[ 1.     0.     0.   ]\n",
      " [-0.5    1.     0.   ]\n",
      " [ 0.    -0.667  1.   ]]\n",
      "\n",
      "U (Upper triangular):\n",
      "[[ 2.    -1.     0.   ]\n",
      " [ 0.     1.5   -1.   ]\n",
      " [ 0.     0.     1.333]]\n",
      "\n",
      "QR Decomposition:\n",
      "Q (Orthogonal matrix):\n",
      "[[-0.894 -0.359  0.267]\n",
      " [ 0.447 -0.717  0.535]\n",
      " [-0.     0.598  0.802]]\n",
      "\n",
      "R (Upper triangular):\n",
      "[[-2.236  1.789 -0.447]\n",
      " [ 0.    -1.673  1.912]\n",
      " [ 0.     0.     1.069]]\n"
     ]
    }
   ],
   "source": [
    "def explore_decompositions(matrix):\n",
    "    \"\"\"Explore different matrix decompositions\"\"\"\n",
    "    # LU Decomposition\n",
    "    from scipy.linalg import lu\n",
    "    P, L, U = lu(matrix)\n",
    "    \n",
    "    print(\"LU Decomposition:\")\n",
    "    print(\"L (Lower triangular):\")\n",
    "    print(L)\n",
    "    print(\"\\nU (Upper triangular):\")\n",
    "    print(U)\n",
    "    \n",
    "    # QR Decomposition\n",
    "    Q, R = np.linalg.qr(matrix)\n",
    "    print(\"\\nQR Decomposition:\")\n",
    "    print(\"Q (Orthogonal matrix):\")\n",
    "    print(Q)\n",
    "    print(\"\\nR (Upper triangular):\")\n",
    "    print(R)\n",
    "    \n",
    "# Create a matrix for decomposition\n",
    "F = np.array([[2, -1, 0],\n",
    "              [-1, 2, -1],\n",
    "              [0, -1, 2]])\n",
    "\n",
    "print(\"Matrix Decompositions:\")\n",
    "explore_decompositions(F)"
   ]
  },
  {
   "cell_type": "code",
   "execution_count": null,
   "id": "6afec4c8-016b-4fba-b552-83caaf48cc17",
   "metadata": {},
   "outputs": [],
   "source": []
  }
 ],
 "metadata": {
  "kernelspec": {
   "display_name": "Python 3.12 (PyTorch)",
   "language": "python",
   "name": "torch-ml-312"
  },
  "language_info": {
   "codemirror_mode": {
    "name": "ipython",
    "version": 3
   },
   "file_extension": ".py",
   "mimetype": "text/x-python",
   "name": "python",
   "nbconvert_exporter": "python",
   "pygments_lexer": "ipython3",
   "version": "3.12.7"
  }
 },
 "nbformat": 4,
 "nbformat_minor": 5
}
