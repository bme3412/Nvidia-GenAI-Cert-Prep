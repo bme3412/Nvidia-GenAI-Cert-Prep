{
 "cells": [
  {
   "cell_type": "markdown",
   "id": "691021f8-eb8a-438b-ad4f-75bc2ff748a0",
   "metadata": {},
   "source": [
    "### Cross-validation techniques"
   ]
  },
  {
   "cell_type": "markdown",
   "id": "e818cc60-c68a-4fa4-ba40-a63fad9c8396",
   "metadata": {},
   "source": [
    "#### 30,000 Foot View:\n",
    "+ Users want to know how the model will perform in the real world, not just on existing data; Cross-validation is the primary tool for getting this insight before deploying to production\n",
    "    + 1. Provides a realistic assessment of how well the model will perform on unseen data\n",
    "      2. Allows fair comparison between different types of models\n",
    "      3. Shows how sensitive the model is to different subsets of data"
   ]
  },
  {
   "cell_type": "markdown",
   "id": "be5ba465-7f59-4bdd-96ed-f4a3e38b3dd9",
   "metadata": {},
   "source": [
    "-----------------"
   ]
  },
  {
   "cell_type": "markdown",
   "id": "3d9a8083-a841-4918-a56f-b2996de2705c",
   "metadata": {},
   "source": [
    "#### Basic concepts"
   ]
  },
  {
   "cell_type": "markdown",
   "id": "0f443c95-f5a5-41ac-ad44-e2bc1f184163",
   "metadata": {},
   "source": [
    "##### K-Fold Cross-Validation\n",
    "+ Splits data into k equal parts (\"folds\").\n",
    "+ Model trains on k-1 folds and tests on the remaining fold.\n",
    "+ Process repeats k times with different test folds. Most common approach is 5-fold or 10-fold.\n",
    "+ For earnings call analysis, each fold would contain a balanced mix of different quarters and companies."
   ]
  },
  {
   "cell_type": "markdown",
   "id": "9be38b53-7572-4247-b4e4-f1586fb78f77",
   "metadata": {},
   "source": [
    "##### Stratified K-Fold\n",
    "+ Similar to K-Fold but maintains class proportion in each fold. Essential when:\n",
    "+ Analyzing sentiment labels that are imbalanced (more positive than negative statements)\n",
    "+ Working with industry sectors where some have fewer companies\n",
    "+ Dealing with different market cap sizes (fewer large-cap than small-cap companies)"
   ]
  },
  {
   "cell_type": "markdown",
   "id": "462d5cde-0f1e-46d2-ac5a-e936fe90cc3f",
   "metadata": {},
   "source": [
    "#### Time-Series"
   ]
  },
  {
   "cell_type": "markdown",
   "id": "a16f4b45-0f87-4930-aac5-36951744a0f4",
   "metadata": {},
   "source": [
    "##### Time Series Split\n",
    "+ Respects temporal order of data. Each fold only uses past data to predict future. Critical for:\n",
    "+ Quarter-by-quarter earnings prediction\n",
    "+ Forward-looking sentiment analysis\n",
    "+ Trend prediction in financial metrics"
   ]
  },
  {
   "cell_type": "markdown",
   "id": "b5a05ed7-ec0c-4a57-9108-f6e544d35997",
   "metadata": {},
   "source": [
    "##### Rolling Window\n",
    "+ Uses fixed-size window that moves forward in time. Suitable for:\n",
    "+ Testing seasonal patterns in earnings calls\n",
    "+ Analyzing how language changes over time\n",
    "+ Validating trend-based predictions"
   ]
  },
  {
   "cell_type": "markdown",
   "id": "bd3a1fff-7232-403f-877b-67a05e4573a8",
   "metadata": {},
   "source": [
    "#### Advanced Techniques"
   ]
  },
  {
   "cell_type": "markdown",
   "id": "78ef2c21-2157-4de7-b304-8350ca41e6bf",
   "metadata": {},
   "source": [
    "##### Group Cross-Validation\n",
    "+ Keeps all data from same group (like same company) in same fold. Essential for:\n",
    "+ Preventing data leakage between companies\n",
    "+ Testing model generalization to new companies\n",
    "+ Validating industry-specific patterns"
   ]
  },
  {
   "cell_type": "code",
   "execution_count": null,
   "id": "61b823bd-b395-430a-bf1a-bd48343f30fc",
   "metadata": {},
   "outputs": [],
   "source": []
  }
 ],
 "metadata": {
  "kernelspec": {
   "display_name": "Python 3.12 (PyTorch)",
   "language": "python",
   "name": "torch-ml-312"
  },
  "language_info": {
   "codemirror_mode": {
    "name": "ipython",
    "version": 3
   },
   "file_extension": ".py",
   "mimetype": "text/x-python",
   "name": "python",
   "nbconvert_exporter": "python",
   "pygments_lexer": "ipython3",
   "version": "3.12.7"
  }
 },
 "nbformat": 4,
 "nbformat_minor": 5
}
