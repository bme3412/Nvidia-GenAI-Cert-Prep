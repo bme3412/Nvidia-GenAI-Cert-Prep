{
 "cells": [
  {
   "cell_type": "markdown",
   "id": "fb0096f2-26e7-4645-b992-9462a7392aed",
   "metadata": {},
   "source": [
    "### Review of prior day [day 3]"
   ]
  },
  {
   "cell_type": "markdown",
   "id": "2a909b2a-2446-4804-b460-90a952b24844",
   "metadata": {},
   "source": [
    "##### Intro to SpaCy\n",
    "+ nlp python package that converts text into documents, objects (token object, span object) that enables to access specific text in a structured way\n",
    "+ each block of text is a document object, with each word a token, and can access/slice a range of tokens usng the span object\n",
    "+ can also return lexical attributes (ex: alphabetical, numeric, boolean, etc) to better identify structured data\n",
    "+ can also do `trained pipeline` to predict part-of-speech, named entities, syntatic dependencies\n",
    "+ also had an intro to more advanced data structures and embeddings"
   ]
  },
  {
   "cell_type": "markdown",
   "id": "5013fa6b-d8bf-4282-863e-ee7c73778f94",
   "metadata": {},
   "source": [
    "#### Review of NumPy:\n",
    "+ basic arrays, array operations, slicing and indexing\n",
    "+ broadcasting - performing arithmetic operations on arrays of different shapes; operations are performed element-wise"
   ]
  },
  {
   "cell_type": "markdown",
   "id": "a26d9e65-c593-4b19-b092-8555d4f179a4",
   "metadata": {},
   "source": [
    "#### Linear Algebra\n",
    "+ intro to review of algebra"
   ]
  },
  {
   "cell_type": "code",
   "execution_count": null,
   "id": "65da03cf-9368-4b3e-9eab-b76f8bc522b3",
   "metadata": {},
   "outputs": [],
   "source": []
  }
 ],
 "metadata": {
  "kernelspec": {
   "display_name": "Python 3.12 (PyTorch)",
   "language": "python",
   "name": "torch-ml-312"
  },
  "language_info": {
   "codemirror_mode": {
    "name": "ipython",
    "version": 3
   },
   "file_extension": ".py",
   "mimetype": "text/x-python",
   "name": "python",
   "nbconvert_exporter": "python",
   "pygments_lexer": "ipython3",
   "version": "3.12.7"
  }
 },
 "nbformat": 4,
 "nbformat_minor": 5
}
