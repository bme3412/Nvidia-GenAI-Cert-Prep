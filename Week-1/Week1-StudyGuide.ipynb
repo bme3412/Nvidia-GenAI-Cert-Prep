{
 "cells": [
  {
   "cell_type": "markdown",
   "id": "d4a04b6a-a98f-46cf-bb22-7c6f8ab32a02",
   "metadata": {},
   "source": [
    "# Week 1: Core Machine Learning and Deep Learning Foundations\n",
    "## Detailed Self-Study Guide (3-4+ hours per day)"
   ]
  },
  {
   "cell_type": "markdown",
   "id": "318f6345-4f54-4319-8fd9-676855c3d97d",
   "metadata": {},
   "source": [
    "-----------"
   ]
  },
  {
   "cell_type": "markdown",
   "id": "8c0abe38-5ab2-4ffb-b7e6-4a5fa32df47f",
   "metadata": {},
   "source": [
    "### Day 1: Deep Learning Fundamentals - Part 1\n",
    "#### Morning Session (1.5-2 hours)\n",
    "\n",
    "**Core concepts:**\n",
    "* Neural network architecture basics\n",
    "* Forward and backward propagation\n",
    "* Activation functions (read \"Activation Function\" from suggested readings)\n",
    "* Loss functions and optimization\n",
    "\n",
    "#### Afternoon Session (2+ hours)\n",
    "\n",
    "**Hands-on practice:**\n",
    "* Set up Python development environment\n",
    "* Basic NumPy operations for neural networks\n",
    "* Implement a simple feedforward neural network\n",
    "\n",
    "*Evening: Review and notes compilation*"
   ]
  },
  {
   "cell_type": "markdown",
   "id": "68418be1-fca9-4226-9f2d-a7e7fe761c20",
   "metadata": {},
   "source": [
    "----------"
   ]
  },
  {
   "cell_type": "markdown",
   "id": "4f7dca8e-7f7c-40df-b81c-53b190fc15db",
   "metadata": {},
   "source": [
    "### Day 2: Deep Learning Fundamentals - Part 2\n",
    "#### Morning Session (1.5-2 hours)\n",
    "\n",
    "**Study materials:**\n",
    "* Transfer learning concepts\n",
    "* Model architectures (CNNs, RNNs basics)\n",
    "* Feature engineering fundamentals\n",
    "* Cross-validation techniques\n",
    "\n",
    "#### Afternoon Session (2+ hours)\n",
    "\n",
    "**Practical exercises:**\n",
    "* Implement basic transfer learning example\n",
    "* Practice with scikit-learn for cross-validation\n",
    "* Feature engineering exercises with pandas\n",
    "\n",
    "*Reading: \"Implementing Deep Learning Methods and Feature Engineering for Text Data\"*"
   ]
  },
  {
   "cell_type": "markdown",
   "id": "60234b8c-5184-41fc-aefe-0ebb1f392a37",
   "metadata": {},
   "source": [
    "-----------"
   ]
  },
  {
   "cell_type": "markdown",
   "id": "166bcbbb-962e-41ca-85e6-7844f6865c14",
   "metadata": {},
   "source": [
    "### Day 3: Python ML Libraries Deep Dive\n",
    "#### Morning Session (1.5-2 hours)\n",
    "\n",
    "**Focus on spaCy:**\n",
    "* Core features and capabilities\n",
    "* NLP pipelines\n",
    "* Named Entity Recognition\n",
    "* Part-of-speech tagging\n",
    "\n",
    "#### Afternoon Session (2+ hours)\n",
    "\n",
    "**NumPy and vector operations:**\n",
    "* Array operations\n",
    "* Broadcasting rules\n",
    "* Linear algebra operations\n",
    "* Practical exercises with each concept\n",
    "\n",
    "*Evening project: Build a basic text analysis pipeline*"
   ]
  },
  {
   "cell_type": "markdown",
   "id": "e148db5e-675a-411f-93fa-d68ff540bc08",
   "metadata": {},
   "source": [
    "----------"
   ]
  },
  {
   "cell_type": "markdown",
   "id": "f8b243a4-9402-48f7-b0b0-cfbe188cb5af",
   "metadata": {},
   "source": [
    "### Day 4: Advanced Python Libraries and Tools\n",
    "#### Morning Session (1.5-2 hours)\n",
    "\n",
    "**Study Keras fundamentals:**\n",
    "* Model building APIs\n",
    "* Layer types and usage\n",
    "* Model compilation and training\n",
    "* Callbacks and monitoring\n",
    "\n",
    "#### Afternoon Session (2+ hours)\n",
    "\n",
    "**Vector databases introduction:**\n",
    "* Understanding vector embeddings\n",
    "* Basic similarity search\n",
    "* Practice with small-scale examples\n",
    "\n",
    "*Reading: \"TensorRT—Get Started\"*"
   ]
  },
  {
   "cell_type": "markdown",
   "id": "25921a13-35c8-41fe-a6c6-9e4ab0ea2f2e",
   "metadata": {},
   "source": [
    "--------"
   ]
  },
  {
   "cell_type": "markdown",
   "id": "fc4b887f-f0c6-48bf-a36e-5f3af7fad88b",
   "metadata": {},
   "source": [
    "### Day 5: Transformer Architecture - Part 1\n",
    "#### Morning Session (1.5-2 hours)\n",
    "\n",
    "**Core concepts:**\n",
    "* Self-attention mechanism\n",
    "* Multi-head attention\n",
    "* Positional encoding\n",
    "\n",
    "*Reading: \"Attention Is All You Need\" (first half)*\n",
    "\n",
    "#### Afternoon Session (2+ hours)\n",
    "\n",
    "**Practical implementation:**\n",
    "* Build a simple attention mechanism\n",
    "* Implement positional encoding\n",
    "* Practice with small examples\n",
    "\n",
    "*Evening: Review and concept mapping*"
   ]
  },
  {
   "cell_type": "markdown",
   "id": "20b9df7e-4d43-442d-9269-90630b46b2e9",
   "metadata": {},
   "source": [
    "----------"
   ]
  },
  {
   "cell_type": "markdown",
   "id": "4bf6c39e-3aac-4d5b-bd9b-d25b093c61dd",
   "metadata": {},
   "source": [
    "### Day 6: Transformer Architecture - Part 2\n",
    "#### Morning Session (1.5-2 hours)\n",
    "\n",
    "**Advanced concepts:**\n",
    "* Encoder-decoder architecture\n",
    "* Layer normalization\n",
    "* Feed-forward networks\n",
    "\n",
    "*Complete: \"Attention Is All You Need\"*\n",
    "\n",
    "#### Afternoon Session (2+ hours)\n",
    "\n",
    "**Hands-on practice:**\n",
    "* Implement a basic transformer block\n",
    "* Experiment with different attention patterns\n",
    "* Debug common issues\n",
    "\n",
    "*Start reading: \"Training Hidden Units With Back Propagation\"*"
   ]
  },
  {
   "cell_type": "markdown",
   "id": "459d8385-fabd-4c86-9e15-e0b8f62777d6",
   "metadata": {},
   "source": [
    "--------"
   ]
  },
  {
   "cell_type": "markdown",
   "id": "69f1927a-4a3a-4b59-90a8-452c35050dbb",
   "metadata": {},
   "source": [
    "### Day 7: Integration and Review\n",
    "#### Morning Session (1.5-2 hours)\n",
    "\n",
    "**Review and reinforce:**\n",
    "* Key concepts from the week\n",
    "* Common pitfalls and solutions\n",
    "* Best practices\n",
    "\n",
    "#### Afternoon Session (2+ hours)\n",
    "\n",
    "**Integration project:**\n",
    "* Build a small end-to-end system\n",
    "* Combine multiple concepts learned\n",
    "* Practice debugging and optimization\n",
    "\n",
    "*Evening: Create summary notes and concept map*"
   ]
  },
  {
   "cell_type": "code",
   "execution_count": null,
   "id": "1a3822a2-6eb8-46c8-a226-22a0ec0a506a",
   "metadata": {},
   "outputs": [],
   "source": []
  }
 ],
 "metadata": {
  "kernelspec": {
   "display_name": "Python 3.12 (PyTorch)",
   "language": "python",
   "name": "torch-ml-312"
  },
  "language_info": {
   "codemirror_mode": {
    "name": "ipython",
    "version": 3
   },
   "file_extension": ".py",
   "mimetype": "text/x-python",
   "name": "python",
   "nbconvert_exporter": "python",
   "pygments_lexer": "ipython3",
   "version": "3.12.7"
  }
 },
 "nbformat": 4,
 "nbformat_minor": 5
}
